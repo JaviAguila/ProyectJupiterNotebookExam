{
 "cells": [
  {
   "cell_type": "markdown",
   "metadata": {},
   "source": [
    "# Data Science Tools and Ecosystem\n"
   ]
  },
  {
   "cell_type": "markdown",
   "metadata": {},
   "source": [
    "In this notebook, Data Science Tools and Ecosystem are summarized.\n"
   ]
  },
  {
   "cell_type": "markdown",
   "metadata": {},
   "source": [
    "Some of the popular languages that Data Scientists use are:\n",
    "\n",
    "1. Python\n",
    "2. R\n",
    "3. SQL\n",
    "4. Java\n",
    "5. Julia\n"
   ]
  },
  {
   "cell_type": "markdown",
   "metadata": {},
   "source": [
    "Some of the commonly used libraries used by Data Scientists include:\n",
    "\n",
    "\n",
    "1. NumPy\n",
    "\n",
    "2. Pandas\n",
    "\n",
    "3. Matplotlib\n",
    "\n",
    "4. Seaborn\n",
    "\n",
    "5. Scikit-learn\n",
    "\n",
    "6. TensorFlow\n",
    "\n",
    "7. PyTorch\n"
   ]
  },
  {
   "cell_type": "markdown",
   "metadata": {},
   "source": [
    "# Data science tools\n",
    "\n",
    "\n",
    "| *DATA SCIENCE TOOLS*              |\n",
    "|--------------------------|\n",
    "| **Text editor**      | \n",
    "| **Jupyter Notebooks**    |\n",
    "| **Python Extension**     | \n",
    "| **Git Integration**      | \n",
    "| **Pandas Data Viewer**   | \n",
    "| **Matplotlib Viewer**    | \n",
    "| **Code Runner**          | \n",
    "| **SQL Server**   |\n"
   ]
  },
  {
   "cell_type": "markdown",
   "metadata": {},
   "source": [
    "## **Objectives:**\n",
    "\n",
    "- Explore the Jupyter Notebook environment.\n",
    "  \n",
    "- Implement common arithmetic operations, such as addition, subtraction, multiplication, and division in a code line.\n",
    "\n",
    "- Gain familiarity with different programming languages used in Data Science, including Python or R in this course.\n",
    "\n",
    "- Creating, running, and documenting code cells and markdowns.\n",
    "\n",
    "- Practice using Markdown syntaxis for creating text, headers, lists and sheet data."
   ]
  },
  {
   "cell_type": "markdown",
   "metadata": {},
   "source": [
    "### Arithmetic Expression Examples in Jupyter Notebook\n",
    "\n",
    "Below are some basic arithmetic expression examples:\n",
    "\n",
    "1. **Python:**\n",
    "   ```python\n",
    "   # Addition\n",
    "   result = 5 + 34254\n",
    "\n",
    "   # Subtraction\n",
    "   result = 7 - 25\n",
    "\n",
    "   # Multiplication\n",
    "   result = 45 * 6\n",
    "\n",
    "   # Division\n",
    "   result = 1025 / 2\n"
   ]
  },
  {
   "cell_type": "markdown",
   "metadata": {},
   "source": [
    "### Now there is the expression (3*4)+5: "
   ]
  },
  {
   "cell_type": "code",
   "execution_count": null,
   "metadata": {},
   "outputs": [],
   "source": [
    "Expr = (3*4)+5\n",
    "print(Expr)"
   ]
  },
  {
   "cell_type": "markdown",
   "metadata": {},
   "source": [
    " ### Now an expression that converts 200 minutes into hours."
   ]
  },
  {
   "cell_type": "code",
   "execution_count": null,
   "metadata": {},
   "outputs": [],
   "source": [
    "conv = 200/60\n",
    "print(conv, \"hours. \")"
   ]
  },
  {
   "cell_type": "markdown",
   "metadata": {},
   "source": [
    "\n",
    "## The author of this Jupiter Notebook is:\n",
    "##### Javier Aguilar Sastre"
   ]
  }
 ],
 "metadata": {
  "kernelspec": {
   "display_name": "Python 3.8.10 64-bit (microsoft store)",
   "language": "python",
   "name": "python3"
  },
  "language_info": {
   "name": "python",
   "version": "3.8.10"
  },
  "orig_nbformat": 4,
  "vscode": {
   "interpreter": {
    "hash": "b6da4b68672bf2596e55b0781e2ca6fcde8b8152929bd0e0a261418edd9c2290"
   }
  }
 },
 "nbformat": 4,
 "nbformat_minor": 2
}
